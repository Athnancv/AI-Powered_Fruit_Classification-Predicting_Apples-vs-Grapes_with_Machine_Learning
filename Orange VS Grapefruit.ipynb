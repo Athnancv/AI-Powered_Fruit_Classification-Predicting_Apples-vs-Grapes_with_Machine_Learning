{
 "cells": [
  {
   "cell_type": "code",
   "execution_count": 2,
   "id": "af0e379b-80c9-42c8-89ad-fdb95a87ea42",
   "metadata": {},
   "outputs": [],
   "source": [
    "import numpy as np\n",
    "import pandas as pd\n",
    "import matplotlib.pyplot as plt\n",
    "import seaborn as sns "
   ]
  },
  {
   "cell_type": "code",
   "execution_count": 4,
   "id": "210d8452-edb1-43b2-b4ac-9d6844c22ada",
   "metadata": {},
   "outputs": [],
   "source": [
    "df=pd.read_csv('citrus.csv')"
   ]
  },
  {
   "cell_type": "code",
   "execution_count": 5,
   "id": "92fed062-3c6a-479e-8887-34bc6c28254f",
   "metadata": {},
   "outputs": [
    {
     "data": {
      "text/html": [
       "<div>\n",
       "<style scoped>\n",
       "    .dataframe tbody tr th:only-of-type {\n",
       "        vertical-align: middle;\n",
       "    }\n",
       "\n",
       "    .dataframe tbody tr th {\n",
       "        vertical-align: top;\n",
       "    }\n",
       "\n",
       "    .dataframe thead th {\n",
       "        text-align: right;\n",
       "    }\n",
       "</style>\n",
       "<table border=\"1\" class=\"dataframe\">\n",
       "  <thead>\n",
       "    <tr style=\"text-align: right;\">\n",
       "      <th></th>\n",
       "      <th>name</th>\n",
       "      <th>diameter</th>\n",
       "      <th>weight</th>\n",
       "      <th>red</th>\n",
       "      <th>green</th>\n",
       "      <th>blue</th>\n",
       "    </tr>\n",
       "  </thead>\n",
       "  <tbody>\n",
       "    <tr>\n",
       "      <th>0</th>\n",
       "      <td>orange</td>\n",
       "      <td>2.96</td>\n",
       "      <td>86.76</td>\n",
       "      <td>172</td>\n",
       "      <td>85</td>\n",
       "      <td>2</td>\n",
       "    </tr>\n",
       "    <tr>\n",
       "      <th>1</th>\n",
       "      <td>orange</td>\n",
       "      <td>3.91</td>\n",
       "      <td>88.05</td>\n",
       "      <td>166</td>\n",
       "      <td>78</td>\n",
       "      <td>3</td>\n",
       "    </tr>\n",
       "    <tr>\n",
       "      <th>2</th>\n",
       "      <td>orange</td>\n",
       "      <td>4.42</td>\n",
       "      <td>95.17</td>\n",
       "      <td>156</td>\n",
       "      <td>81</td>\n",
       "      <td>2</td>\n",
       "    </tr>\n",
       "    <tr>\n",
       "      <th>3</th>\n",
       "      <td>orange</td>\n",
       "      <td>4.47</td>\n",
       "      <td>95.60</td>\n",
       "      <td>163</td>\n",
       "      <td>81</td>\n",
       "      <td>4</td>\n",
       "    </tr>\n",
       "    <tr>\n",
       "      <th>4</th>\n",
       "      <td>orange</td>\n",
       "      <td>4.48</td>\n",
       "      <td>95.76</td>\n",
       "      <td>161</td>\n",
       "      <td>72</td>\n",
       "      <td>9</td>\n",
       "    </tr>\n",
       "    <tr>\n",
       "      <th>...</th>\n",
       "      <td>...</td>\n",
       "      <td>...</td>\n",
       "      <td>...</td>\n",
       "      <td>...</td>\n",
       "      <td>...</td>\n",
       "      <td>...</td>\n",
       "    </tr>\n",
       "    <tr>\n",
       "      <th>9995</th>\n",
       "      <td>grapefruit</td>\n",
       "      <td>15.35</td>\n",
       "      <td>253.89</td>\n",
       "      <td>149</td>\n",
       "      <td>77</td>\n",
       "      <td>20</td>\n",
       "    </tr>\n",
       "    <tr>\n",
       "      <th>9996</th>\n",
       "      <td>grapefruit</td>\n",
       "      <td>15.41</td>\n",
       "      <td>254.67</td>\n",
       "      <td>148</td>\n",
       "      <td>68</td>\n",
       "      <td>7</td>\n",
       "    </tr>\n",
       "    <tr>\n",
       "      <th>9997</th>\n",
       "      <td>grapefruit</td>\n",
       "      <td>15.59</td>\n",
       "      <td>256.50</td>\n",
       "      <td>168</td>\n",
       "      <td>82</td>\n",
       "      <td>20</td>\n",
       "    </tr>\n",
       "    <tr>\n",
       "      <th>9998</th>\n",
       "      <td>grapefruit</td>\n",
       "      <td>15.92</td>\n",
       "      <td>260.14</td>\n",
       "      <td>142</td>\n",
       "      <td>72</td>\n",
       "      <td>11</td>\n",
       "    </tr>\n",
       "    <tr>\n",
       "      <th>9999</th>\n",
       "      <td>grapefruit</td>\n",
       "      <td>16.45</td>\n",
       "      <td>261.51</td>\n",
       "      <td>152</td>\n",
       "      <td>74</td>\n",
       "      <td>2</td>\n",
       "    </tr>\n",
       "  </tbody>\n",
       "</table>\n",
       "<p>10000 rows × 6 columns</p>\n",
       "</div>"
      ],
      "text/plain": [
       "            name  diameter  weight  red  green  blue\n",
       "0         orange      2.96   86.76  172     85     2\n",
       "1         orange      3.91   88.05  166     78     3\n",
       "2         orange      4.42   95.17  156     81     2\n",
       "3         orange      4.47   95.60  163     81     4\n",
       "4         orange      4.48   95.76  161     72     9\n",
       "...          ...       ...     ...  ...    ...   ...\n",
       "9995  grapefruit     15.35  253.89  149     77    20\n",
       "9996  grapefruit     15.41  254.67  148     68     7\n",
       "9997  grapefruit     15.59  256.50  168     82    20\n",
       "9998  grapefruit     15.92  260.14  142     72    11\n",
       "9999  grapefruit     16.45  261.51  152     74     2\n",
       "\n",
       "[10000 rows x 6 columns]"
      ]
     },
     "execution_count": 5,
     "metadata": {},
     "output_type": "execute_result"
    }
   ],
   "source": [
    "df"
   ]
  },
  {
   "cell_type": "code",
   "execution_count": null,
   "id": "7593cb5e-4e66-4496-9005-e93d6722baf0",
   "metadata": {},
   "outputs": [],
   "source": [
    "from sklearn.preprocessing import LabelEncoder\n",
    "le=LabelEncoder()\n",
    "df['name']=le.fit_transform(df['name'])"
   ]
  },
  {
   "cell_type": "code",
   "execution_count": null,
   "id": "ccae2def-ce46-4855-81b0-bf00e67d792d",
   "metadata": {},
   "outputs": [],
   "source": [
    "df"
   ]
  },
  {
   "cell_type": "code",
   "execution_count": 3,
   "id": "7779f2f6-779a-4c9b-bda0-fab82c9ce46c",
   "metadata": {},
   "outputs": [
    {
     "ename": "NameError",
     "evalue": "name 'df' is not defined",
     "output_type": "error",
     "traceback": [
      "\u001b[31m---------------------------------------------------------------------------\u001b[39m",
      "\u001b[31mNameError\u001b[39m                                 Traceback (most recent call last)",
      "\u001b[36mCell\u001b[39m\u001b[36m \u001b[39m\u001b[32mIn[3]\u001b[39m\u001b[32m, line 1\u001b[39m\n\u001b[32m----> \u001b[39m\u001b[32m1\u001b[39m \u001b[43mdf\u001b[49m.info()\n",
      "\u001b[31mNameError\u001b[39m: name 'df' is not defined"
     ]
    }
   ],
   "source": [
    "df.info()"
   ]
  },
  {
   "cell_type": "code",
   "execution_count": null,
   "id": "41a31739-5354-4411-a15e-61831d185943",
   "metadata": {},
   "outputs": [],
   "source": [
    "df.describe()"
   ]
  },
  {
   "cell_type": "code",
   "execution_count": null,
   "id": "1f0a3e06-8501-4d79-8059-6a109deca0e6",
   "metadata": {},
   "outputs": [],
   "source": [
    "import core as kl\n",
    "for col_name in df.columns:\n",
    "     print(col_name)\n",
    "     kl.cal_stats(df[col_name])"
   ]
  },
  {
   "cell_type": "code",
   "execution_count": null,
   "id": "7a027f4d-28ff-4e58-b329-5d46fa1c86c9",
   "metadata": {},
   "outputs": [],
   "source": [
    "sns.countplot(data=df, x='name')"
   ]
  },
  {
   "cell_type": "code",
   "execution_count": null,
   "id": "5970a1c5-1c55-4c92-9c58-9a783643c887",
   "metadata": {},
   "outputs": [],
   "source": [
    "for col_name in df.drop('name',axis=1).columns:\n",
    "    print(col_name)\n",
    "    sns.displot(df[col_name])\n",
    "    plt.show()"
   ]
  },
  {
   "cell_type": "code",
   "execution_count": null,
   "id": "176c1008-7608-46c3-a514-0f123d3c4f3c",
   "metadata": {
    "scrolled": true
   },
   "outputs": [],
   "source": [
    "for col_name in df.drop('name',axis=1).columns:\n",
    "    print (col_name)\n",
    "    sns.kdeplot(df[col_name])\n",
    "    plt.show()"
   ]
  },
  {
   "cell_type": "code",
   "execution_count": null,
   "id": "c0093fb0-2841-44bd-9f91-75081164d90d",
   "metadata": {},
   "outputs": [],
   "source": [
    "sns.pairplot(df,hue='name')\n",
    "plt.show()"
   ]
  },
  {
   "cell_type": "code",
   "execution_count": null,
   "id": "f6d0d9e0-0ce9-4bd4-95ad-fb61c53c6d3d",
   "metadata": {},
   "outputs": [],
   "source": [
    "for col_name in df.drop('name',axis=1).columns:\n",
    "    print(col_name)\n",
    "    sns.boxplot(df[col_name])\n",
    "    plt.show()"
   ]
  },
  {
   "cell_type": "code",
   "execution_count": null,
   "id": "38aad696-7ecf-4386-8955-fea16fee05cf",
   "metadata": {},
   "outputs": [],
   "source": [
    "sns.heatmap(df.corr(),annot=True,vmin=-1,vmax=1,cmap='coolwarm' )\n",
    "plt.show()"
   ]
  },
  {
   "cell_type": "code",
   "execution_count": null,
   "id": "acf974d9-844c-4889-939c-80b6a0e3de1f",
   "metadata": {},
   "outputs": [],
   "source": [
    "X=df.drop('name',axis=1)\n",
    "y=df['name']"
   ]
  },
  {
   "cell_type": "code",
   "execution_count": null,
   "id": "ac0c3dd1-4737-484d-a7e7-1bf5a5809c4f",
   "metadata": {},
   "outputs": [],
   "source": [
    "from sklearn.model_selection import train_test_split"
   ]
  },
  {
   "cell_type": "code",
   "execution_count": null,
   "id": "0e411683-f668-464c-b06d-2569d51d6d2d",
   "metadata": {},
   "outputs": [],
   "source": [
    "X_train , X_test , y_train , y_test =train_test_split(X , y , test_size=0.25 )"
   ]
  },
  {
   "cell_type": "code",
   "execution_count": null,
   "id": "b83f669c-3325-48cd-9724-43f885acb77f",
   "metadata": {},
   "outputs": [],
   "source": [
    "len(df)"
   ]
  },
  {
   "cell_type": "code",
   "execution_count": null,
   "id": "e70ff2fc-5c93-47c8-8d89-27b4a649fca6",
   "metadata": {},
   "outputs": [],
   "source": [
    "#sample training where it will know input & output\n",
    "\n",
    "len(X_train)"
   ]
  },
  {
   "cell_type": "code",
   "execution_count": null,
   "id": "18325153-1c87-4b51-93ee-037d056b3c85",
   "metadata": {},
   "outputs": [],
   "source": [
    "#outsider sample training where it will know only the input\n",
    "\n",
    "len(X_test)"
   ]
  },
  {
   "cell_type": "code",
   "execution_count": null,
   "id": "b3d64691-d05e-44f2-bc6b-e53e766c28bf",
   "metadata": {},
   "outputs": [],
   "source": [
    "from sklearn.tree import DecisionTreeClassifier"
   ]
  },
  {
   "cell_type": "code",
   "execution_count": null,
   "id": "0392e451-3e77-4320-a0da-8a468c073874",
   "metadata": {},
   "outputs": [],
   "source": [
    "dtc=DecisionTreeClassifier(max_depth=3)"
   ]
  },
  {
   "cell_type": "code",
   "execution_count": null,
   "id": "2cf494c3-0933-4b95-8271-9d408de280d2",
   "metadata": {},
   "outputs": [],
   "source": [
    "dtc.fit(X_train,y_train)"
   ]
  },
  {
   "cell_type": "code",
   "execution_count": null,
   "id": "64e0d58f-a3bf-4187-85ab-2eb72f143a76",
   "metadata": {},
   "outputs": [],
   "source": [
    "y_pred_train=dtc.predict(X_train)\n",
    "y_pred_test=dtc.predict(X_test)"
   ]
  },
  {
   "cell_type": "code",
   "execution_count": null,
   "id": "e73bb173-4fd1-4936-86c4-fb83e6a4ea9f",
   "metadata": {},
   "outputs": [],
   "source": [
    "from sklearn.metrics import classification_report"
   ]
  },
  {
   "cell_type": "code",
   "execution_count": null,
   "id": "188530d2-0dba-47fd-85ee-6fca1e5e3058",
   "metadata": {},
   "outputs": [],
   "source": [
    "print(classification_report(y_train,y_pred_train))"
   ]
  },
  {
   "cell_type": "code",
   "execution_count": null,
   "id": "c8d43edb-62f2-4900-b97d-3d00b14fac80",
   "metadata": {},
   "outputs": [],
   "source": [
    "print(classification_report(y_test,y_pred_test))"
   ]
  },
  {
   "cell_type": "code",
   "execution_count": null,
   "id": "4b295846-127e-469d-be27-24e9b2f5e854",
   "metadata": {},
   "outputs": [],
   "source": [
    "df[:1]"
   ]
  },
  {
   "cell_type": "code",
   "execution_count": null,
   "id": "9809b088-7531-4eec-b56d-115b72ceae31",
   "metadata": {},
   "outputs": [],
   "source": [
    "#Usually decision tree is overfitted"
   ]
  },
  {
   "cell_type": "code",
   "execution_count": null,
   "id": "b3b79dfd-8f88-4be8-bea5-d9268818ddfb",
   "metadata": {},
   "outputs": [],
   "source": [
    "from sklearn.tree import plot_tree"
   ]
  },
  {
   "cell_type": "code",
   "execution_count": null,
   "id": "392c571d-c2a4-4031-8267-4b1b6f1b6fa1",
   "metadata": {},
   "outputs": [],
   "source": [
    "plt.figure(figsize=(10,8))\n",
    "plot_tree(dtc)\n",
    "plt.show()"
   ]
  },
  {
   "cell_type": "code",
   "execution_count": null,
   "id": "00ac572f-2c1e-42a6-af5c-4c0dd46927ae",
   "metadata": {},
   "outputs": [],
   "source": [
    "from sklearn.model_selection import GridSearchCV"
   ]
  },
  {
   "cell_type": "code",
   "execution_count": null,
   "id": "3dbbee14-7bbe-44e4-ba23-548f9fc59e2f",
   "metadata": {},
   "outputs": [],
   "source": [
    "from sklearn.model_selection import ParameterGrid\n",
    "from tqdm import tqdm\n",
    "import time\n",
    "\n",
    "# Define parameter grid\n",
    "hyper_param_dict = {\n",
    "    'criterion': ['gini'],\n",
    "    'max_depth': [None, 2, 4, 6],\n",
    "    'min_samples_split': [2, 10],\n",
    "    'min_samples_leaf': [1, 2],\n",
    "    'max_features': [None, 'sqrt']\n",
    "}\n",
    "\n",
    "param_list = list(ParameterGrid(hyper_param_dict))\n",
    "\n",
    "results = []\n",
    "\n",
    "# Loop through parameter combinations with tqdm\n",
    "for params in tqdm(param_list, desc=\"GridSearch Progress\"):\n",
    "    dtc.set_params(**params)\n",
    "    start_time = time.time()\n",
    "    dtc.fit(X_train, y_train)\n",
    "    end_time = time.time()\n",
    "    \n",
    "    elapsed = end_time - start_time\n",
    "    results.append((params, dtc.score(X_train, y_train)))  # You can store train/test score\n",
    "    tqdm.write(f\"Params {params} done in {elapsed:.2f} sec\")\n"
   ]
  },
  {
   "cell_type": "code",
   "execution_count": null,
   "id": "37d2fbd0-dea6-4405-b59b-0f26a7f80798",
   "metadata": {
    "scrolled": true
   },
   "outputs": [],
   "source": [
    "y_pred_train=dtc.predict(X_train)\n",
    "y_pred_test=dtc.predict(X_test)"
   ]
  },
  {
   "cell_type": "code",
   "execution_count": null,
   "id": "5045cd35-0e3e-4a8f-951e-4e93cdfadd79",
   "metadata": {},
   "outputs": [],
   "source": [
    "print(classification_report(y_train,y_pred_train))"
   ]
  },
  {
   "cell_type": "code",
   "execution_count": null,
   "id": "fc54e8e0-b129-46be-9919-19e682a66779",
   "metadata": {},
   "outputs": [],
   "source": [
    "print(classification_report(y_test,y_pred_test))"
   ]
  },
  {
   "cell_type": "code",
   "execution_count": null,
   "id": "bbf31f34-adad-4a64-823b-e32fd31177ff",
   "metadata": {},
   "outputs": [],
   "source": [
    "from sklearn.ensemble import RandomForestClassifier"
   ]
  },
  {
   "cell_type": "code",
   "execution_count": null,
   "id": "2703bef0-dbca-435a-ae49-9f9447d95efe",
   "metadata": {},
   "outputs": [],
   "source": [
    "rfc=RandomForestClassifier()"
   ]
  },
  {
   "cell_type": "code",
   "execution_count": null,
   "id": "b15f322f-8a4a-439c-90f4-3cd0887747cb",
   "metadata": {},
   "outputs": [],
   "source": [
    "from sklearn.model_selection import ParameterGrid\n",
    "from tqdm import tqdm\n",
    "import time\n",
    "\n",
    "param_list = list(ParameterGrid(hyper_param_dict))\n",
    "\n",
    "for params in tqdm(param_list):\n",
    "    rfc.set_params(**params)\n",
    "    start_time = time.time()\n",
    "    rfc.fit(X_train, y_train)\n",
    "    end_time = time.time()\n",
    "    tqdm.write(f\"Params {params} done in {end_time - start_time:.2f} sec\")\n"
   ]
  },
  {
   "cell_type": "code",
   "execution_count": null,
   "id": "5e039db9-1dd6-42c5-88c9-9ebb87bbad5d",
   "metadata": {},
   "outputs": [],
   "source": [
    "y_pred_train=dtc.predict(X_train)\n",
    "y_pred_test=dtc.predict(X_test)"
   ]
  },
  {
   "cell_type": "code",
   "execution_count": null,
   "id": "55c532a5-0fcf-441c-8357-ee5cdb18f012",
   "metadata": {},
   "outputs": [],
   "source": [
    "print(classification_report(y_train,y_pred_train))\n",
    "\n",
    "print(classification_report(y_test,y_pred_test))\n",
    "\n",
    " "
   ]
  },
  {
   "cell_type": "code",
   "execution_count": null,
   "id": "5afb035d-0faa-4e09-86bd-fa968e5e25e4",
   "metadata": {},
   "outputs": [],
   "source": []
  },
  {
   "cell_type": "code",
   "execution_count": null,
   "id": "48a55f2e-4a2d-4964-9b0c-496a8e81cf25",
   "metadata": {},
   "outputs": [],
   "source": []
  },
  {
   "cell_type": "code",
   "execution_count": null,
   "id": "68cd8af7-59a8-4318-9a3e-f8b9baccbec8",
   "metadata": {},
   "outputs": [],
   "source": []
  }
 ],
 "metadata": {
  "kernelspec": {
   "display_name": "Python 3 (ipykernel)",
   "language": "python",
   "name": "python3"
  },
  "language_info": {
   "codemirror_mode": {
    "name": "ipython",
    "version": 3
   },
   "file_extension": ".py",
   "mimetype": "text/x-python",
   "name": "python",
   "nbconvert_exporter": "python",
   "pygments_lexer": "ipython3",
   "version": "3.12.11"
  }
 },
 "nbformat": 4,
 "nbformat_minor": 5
}
